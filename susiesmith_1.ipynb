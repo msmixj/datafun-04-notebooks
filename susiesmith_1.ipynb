{
 "cells": [
  {
   "cell_type": "markdown",
   "id": "f54f7c97-eead-4c00-a118-20fd39840f0b",
   "metadata": {},
   "source": [
    "Susie Smith's Module 4 Project"
   ]
  },
  {
   "cell_type": "markdown",
   "id": "4f0bce91-0628-483c-a2d9-a7f0e5f1fe2b",
   "metadata": {
    "jp-MarkdownHeadingCollapsed": true,
    "tags": []
   },
   "source": [
    "## Task 1 - Series"
   ]
  },
  {
   "cell_type": "code",
   "execution_count": 127,
   "id": "3fa06d59-72e6-4d94-bcb8-ae9754cdebbf",
   "metadata": {},
   "outputs": [],
   "source": [
    "import pandas as pd"
   ]
  },
  {
   "cell_type": "code",
   "execution_count": 128,
   "id": "be07f2b3-4414-4a10-85f3-be3373b3abeb",
   "metadata": {},
   "outputs": [],
   "source": [
    "grades = pd.Series([88, 95, 99])"
   ]
  },
  {
   "cell_type": "code",
   "execution_count": 129,
   "id": "a6a129fe-54a7-42f0-8b02-c35f7e04fb2f",
   "metadata": {},
   "outputs": [
    {
     "data": {
      "text/plain": [
       "88"
      ]
     },
     "execution_count": 129,
     "metadata": {},
     "output_type": "execute_result"
    }
   ],
   "source": [
    "grades[0]"
   ]
  },
  {
   "cell_type": "code",
   "execution_count": 130,
   "id": "c8030fcd-3546-4456-b5cc-72cb2512e93e",
   "metadata": {},
   "outputs": [
    {
     "data": {
      "text/plain": [
       "3"
      ]
     },
     "execution_count": 130,
     "metadata": {},
     "output_type": "execute_result"
    }
   ],
   "source": [
    "grades.count()"
   ]
  },
  {
   "cell_type": "code",
   "execution_count": 131,
   "id": "dbceb703-332b-4150-9966-54613d3659f7",
   "metadata": {},
   "outputs": [
    {
     "data": {
      "text/plain": [
       "94.0"
      ]
     },
     "execution_count": 131,
     "metadata": {},
     "output_type": "execute_result"
    }
   ],
   "source": [
    "grades.mean()"
   ]
  },
  {
   "cell_type": "code",
   "execution_count": 132,
   "id": "df828436-2e5e-4773-a6b7-6af10c1934be",
   "metadata": {},
   "outputs": [
    {
     "data": {
      "text/plain": [
       "88"
      ]
     },
     "execution_count": 132,
     "metadata": {},
     "output_type": "execute_result"
    }
   ],
   "source": [
    "grades.min()"
   ]
  },
  {
   "cell_type": "code",
   "execution_count": 133,
   "id": "f596db6b-75fd-4eac-8c8a-114d1c7ab892",
   "metadata": {},
   "outputs": [
    {
     "data": {
      "text/plain": [
       "99"
      ]
     },
     "execution_count": 133,
     "metadata": {},
     "output_type": "execute_result"
    }
   ],
   "source": [
    "grades.max()"
   ]
  },
  {
   "cell_type": "code",
   "execution_count": 134,
   "id": "59cfbd0b-497b-454b-8519-41f4606c2faf",
   "metadata": {},
   "outputs": [
    {
     "data": {
      "text/plain": [
       "5.5677643628300215"
      ]
     },
     "execution_count": 134,
     "metadata": {},
     "output_type": "execute_result"
    }
   ],
   "source": [
    "grades.std()"
   ]
  },
  {
   "cell_type": "code",
   "execution_count": 135,
   "id": "9755b7f0-cab0-4ae2-abcf-5eac6a52f0da",
   "metadata": {},
   "outputs": [
    {
     "data": {
      "text/plain": [
       "count     3.000000\n",
       "mean     94.000000\n",
       "std       5.567764\n",
       "min      88.000000\n",
       "25%      91.500000\n",
       "50%      95.000000\n",
       "75%      97.000000\n",
       "max      99.000000\n",
       "dtype: float64"
      ]
     },
     "execution_count": 135,
     "metadata": {},
     "output_type": "execute_result"
    }
   ],
   "source": [
    "grades.describe()"
   ]
  },
  {
   "cell_type": "markdown",
   "id": "1c4ace41-f32b-4778-b248-388db3272fe4",
   "metadata": {},
   "source": [
    "##Task 2 - Series from Dictionary"
   ]
  },
  {
   "cell_type": "code",
   "execution_count": 136,
   "id": "a18a270b-e112-4ccd-bd41-6a2ed82b702c",
   "metadata": {},
   "outputs": [],
   "source": [
    "grades = pd.Series({'Wally':87, 'Eva':100, 'Sam':94})"
   ]
  },
  {
   "cell_type": "code",
   "execution_count": 137,
   "id": "033409b3-9e8b-4859-abd3-026bc2766148",
   "metadata": {},
   "outputs": [
    {
     "data": {
      "text/plain": [
       "Wally     87\n",
       "Eva      100\n",
       "Sam       94\n",
       "dtype: int64"
      ]
     },
     "execution_count": 137,
     "metadata": {},
     "output_type": "execute_result"
    }
   ],
   "source": [
    "grades"
   ]
  },
  {
   "cell_type": "code",
   "execution_count": 138,
   "id": "b6c6038b-710f-4d6c-b23f-5ec23dee4e38",
   "metadata": {},
   "outputs": [
    {
     "data": {
      "text/plain": [
       "100"
      ]
     },
     "execution_count": 138,
     "metadata": {},
     "output_type": "execute_result"
    }
   ],
   "source": [
    "grades['Eva']"
   ]
  },
  {
   "cell_type": "code",
   "execution_count": 139,
   "id": "e26bf000-b8ff-4eef-9490-7601d4e7e55b",
   "metadata": {},
   "outputs": [
    {
     "data": {
      "text/plain": [
       "87"
      ]
     },
     "execution_count": 139,
     "metadata": {},
     "output_type": "execute_result"
    }
   ],
   "source": [
    "grades.Wally"
   ]
  },
  {
   "cell_type": "code",
   "execution_count": 140,
   "id": "e607e1b3-37d9-4972-bf8d-135b43e83abf",
   "metadata": {},
   "outputs": [
    {
     "data": {
      "text/plain": [
       "array([ 87, 100,  94], dtype=int64)"
      ]
     },
     "execution_count": 140,
     "metadata": {},
     "output_type": "execute_result"
    }
   ],
   "source": [
    "grades.values"
   ]
  },
  {
   "cell_type": "code",
   "execution_count": 141,
   "id": "1dbc3a8f-3199-4e5c-aae2-e4c2ea3e5f81",
   "metadata": {},
   "outputs": [],
   "source": [
    "import numpy as np"
   ]
  },
  {
   "cell_type": "code",
   "execution_count": 142,
   "id": "513bea2a-0591-461f-a012-5b86d27dd829",
   "metadata": {},
   "outputs": [],
   "source": [
    "import pandas as pd"
   ]
  },
  {
   "cell_type": "code",
   "execution_count": 143,
   "id": "fbbe1ec2-68f6-4744-92b7-0bb044016de6",
   "metadata": {},
   "outputs": [],
   "source": [
    "import numpy as np"
   ]
  },
  {
   "cell_type": "code",
   "execution_count": 144,
   "id": "fafe32ba-ea64-4e54-bc37-d51f21b31c8e",
   "metadata": {},
   "outputs": [],
   "source": [
    "temps = np.random.randint(60, 101, 6)"
   ]
  },
  {
   "cell_type": "code",
   "execution_count": 145,
   "id": "e755ab1f-4e4b-401b-a5de-271a90410fea",
   "metadata": {},
   "outputs": [],
   "source": [
    "temperatures = pd.Series(temps)"
   ]
  },
  {
   "cell_type": "code",
   "execution_count": 146,
   "id": "1e906804-69eb-4f61-bf95-3a6e70d9ddb2",
   "metadata": {},
   "outputs": [
    {
     "data": {
      "text/plain": [
       "0    78\n",
       "1    87\n",
       "2    95\n",
       "3    89\n",
       "4    94\n",
       "5    85\n",
       "dtype: int32"
      ]
     },
     "execution_count": 146,
     "metadata": {},
     "output_type": "execute_result"
    }
   ],
   "source": [
    "temperatures"
   ]
  },
  {
   "cell_type": "code",
   "execution_count": 147,
   "id": "90ca3931-ef8b-45d1-a5a0-a0f7a0242393",
   "metadata": {},
   "outputs": [
    {
     "data": {
      "text/plain": [
       "78"
      ]
     },
     "execution_count": 147,
     "metadata": {},
     "output_type": "execute_result"
    }
   ],
   "source": [
    "temperatures.min()"
   ]
  },
  {
   "cell_type": "code",
   "execution_count": 148,
   "id": "fd007176-62c9-43c8-a925-d56952e0e158",
   "metadata": {},
   "outputs": [
    {
     "data": {
      "text/plain": [
       "95"
      ]
     },
     "execution_count": 148,
     "metadata": {},
     "output_type": "execute_result"
    }
   ],
   "source": [
    "temperatures.max()"
   ]
  },
  {
   "cell_type": "code",
   "execution_count": 149,
   "id": "a28ede42-fa30-472f-8027-7daf98a40845",
   "metadata": {},
   "outputs": [
    {
     "data": {
      "text/plain": [
       "88.0"
      ]
     },
     "execution_count": 149,
     "metadata": {},
     "output_type": "execute_result"
    }
   ],
   "source": [
    "temperatures.mean()"
   ]
  },
  {
   "cell_type": "code",
   "execution_count": 150,
   "id": "547f163f-8555-417f-ba10-24cf90c48477",
   "metadata": {},
   "outputs": [
    {
     "data": {
      "text/plain": [
       "count     6.00000\n",
       "mean     88.00000\n",
       "std       6.26099\n",
       "min      78.00000\n",
       "25%      85.50000\n",
       "50%      88.00000\n",
       "75%      92.75000\n",
       "max      95.00000\n",
       "dtype: float64"
      ]
     },
     "execution_count": 150,
     "metadata": {},
     "output_type": "execute_result"
    }
   ],
   "source": [
    "temperatures.describe()"
   ]
  },
  {
   "cell_type": "code",
   "execution_count": 151,
   "id": "c0c60830-5e17-47a0-9072-8ba90d6754ce",
   "metadata": {},
   "outputs": [],
   "source": [
    "import numpy as np"
   ]
  },
  {
   "cell_type": "code",
   "execution_count": 152,
   "id": "2f1e5b51-e754-48f3-a10f-5c6f100be17f",
   "metadata": {},
   "outputs": [],
   "source": [
    "import pandas as pd"
   ]
  },
  {
   "cell_type": "code",
   "execution_count": 153,
   "id": "309e889f-f297-4bf7-9d4f-8d19f3a801bb",
   "metadata": {},
   "outputs": [],
   "source": [
    "temps = np.random.randint(60, 101, 6)"
   ]
  },
  {
   "cell_type": "code",
   "execution_count": 154,
   "id": "137d95b5-cb2a-45ae-a344-81f95366fd65",
   "metadata": {},
   "outputs": [],
   "source": [
    "temperatures = pd.Series(temps)"
   ]
  },
  {
   "cell_type": "code",
   "execution_count": 155,
   "id": "1cdaf667-1ecd-450f-8e8c-11b4b2a0fdf7",
   "metadata": {},
   "outputs": [
    {
     "data": {
      "text/plain": [
       "0     68\n",
       "1     81\n",
       "2    100\n",
       "3     73\n",
       "4     67\n",
       "5     93\n",
       "dtype: int32"
      ]
     },
     "execution_count": 155,
     "metadata": {},
     "output_type": "execute_result"
    }
   ],
   "source": [
    "temperatures"
   ]
  },
  {
   "cell_type": "code",
   "execution_count": 156,
   "id": "c670ca61-4264-4c3f-940f-f9b2c016fb3f",
   "metadata": {},
   "outputs": [
    {
     "data": {
      "text/plain": [
       "67"
      ]
     },
     "execution_count": 156,
     "metadata": {},
     "output_type": "execute_result"
    }
   ],
   "source": [
    "temperatures.min()"
   ]
  },
  {
   "cell_type": "code",
   "execution_count": 157,
   "id": "d1c9d6f5-425d-4007-9582-c7a65317818a",
   "metadata": {},
   "outputs": [
    {
     "data": {
      "text/plain": [
       "100"
      ]
     },
     "execution_count": 157,
     "metadata": {},
     "output_type": "execute_result"
    }
   ],
   "source": [
    "temperatures.max()"
   ]
  },
  {
   "cell_type": "code",
   "execution_count": 158,
   "id": "e5218822-ed77-4f2e-80c3-1393797216a3",
   "metadata": {},
   "outputs": [
    {
     "data": {
      "text/plain": [
       "80.33333333333333"
      ]
     },
     "execution_count": 158,
     "metadata": {},
     "output_type": "execute_result"
    }
   ],
   "source": [
    "temperatures.mean()"
   ]
  },
  {
   "cell_type": "code",
   "execution_count": 159,
   "id": "075a3ea3-18f4-46c3-bcb0-c775198a1e0f",
   "metadata": {},
   "outputs": [
    {
     "data": {
      "text/plain": [
       "count      6.000000\n",
       "mean      80.333333\n",
       "std       13.647955\n",
       "min       67.000000\n",
       "25%       69.250000\n",
       "50%       77.000000\n",
       "75%       90.000000\n",
       "max      100.000000\n",
       "dtype: float64"
      ]
     },
     "execution_count": 159,
     "metadata": {},
     "output_type": "execute_result"
    }
   ],
   "source": [
    "temperatures.describe()"
   ]
  },
  {
   "cell_type": "code",
   "execution_count": null,
   "id": "720b2a81-daef-4e13-b5ff-8bf9543a8588",
   "metadata": {},
   "outputs": [],
   "source": []
  }
 ],
 "metadata": {
  "kernelspec": {
   "display_name": "Python 3 (ipykernel)",
   "language": "python",
   "name": "python3"
  },
  "language_info": {
   "codemirror_mode": {
    "name": "ipython",
    "version": 3
   },
   "file_extension": ".py",
   "mimetype": "text/x-python",
   "name": "python",
   "nbconvert_exporter": "python",
   "pygments_lexer": "ipython3",
   "version": "3.10.8"
  }
 },
 "nbformat": 4,
 "nbformat_minor": 5
}
